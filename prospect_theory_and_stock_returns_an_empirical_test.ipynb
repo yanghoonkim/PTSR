{
 "cells": [
  {
   "cell_type": "code",
   "execution_count": 1,
   "metadata": {},
   "outputs": [],
   "source": [
    "import random\n",
    "import numpy as np\n",
    "from datetime import datetime\n",
    "import pandas as pd\n",
    "import pandas_datareader.data as web\n",
    "from pandas_datareader.nasdaq_trader import get_nasdaq_symbols\n",
    "from pandas_datareader.famafrench import get_available_datasets\n",
    "import matplotlib.pyplot as plt"
   ]
  },
  {
   "cell_type": "code",
   "execution_count": 2,
   "metadata": {},
   "outputs": [],
   "source": [
    "# Hyperparameters\n",
    "num_sample = 1000 # int or None\n",
    "start_date = '2015-01-01'\n",
    "end_date = '2020-12-31'\n",
    "file_name = 'df_1000_5y.pkl'"
   ]
  },
  {
   "cell_type": "code",
   "execution_count": 3,
   "metadata": {},
   "outputs": [
    {
     "name": "stdout",
     "output_type": "stream",
     "text": [
      "Number of tickers in Nasdaq:  10549\n"
     ]
    }
   ],
   "source": [
    "# Get all of the nasdaq tickers list\n",
    "tickers = get_nasdaq_symbols().index\n",
    "print('Number of tickers in Nasdaq: ', len(tickers))"
   ]
  },
  {
   "cell_type": "code",
   "execution_count": null,
   "metadata": {
    "scrolled": true
   },
   "outputs": [],
   "source": [
    "if num_sample is not None:\n",
    "    tickers = random.sample(tickers.tolist(), num_sample)"
   ]
  },
  {
   "cell_type": "code",
   "execution_count": null,
   "metadata": {
    "scrolled": true
   },
   "outputs": [],
   "source": [
    "# Get data from yahoo finance\n",
    "start = datetime.now()\n",
    "df = web.DataReader(tickers, 'yahoo', start_date, end_date)\n",
    "df = df.sort_index(axis=0)\n",
    "df.to_pickle(file_name)\n",
    "total_time = datetime.now() - start\n",
    "\n",
    "print('Time cost: ', total_time.seconds // 60, 'minutes ', total_time.seconds % 60, 'seconds')\n",
    "#df = pd.read_pickle('df_1000_5y.pkl')"
   ]
  },
  {
   "cell_type": "code",
   "execution_count": 6,
   "metadata": {},
   "outputs": [],
   "source": [
    "# Functions related to (cumulative) prospect theory\n",
    "\n",
    "class v_func:\n",
    "    def __init__(self, alpha, lambda_):\n",
    "        self.alpha = alpha\n",
    "        self.lambda_ = lambda_\n",
    "    \n",
    "    def __call__(self, x):\n",
    "        if x >= 0:\n",
    "            return x**self.alpha\n",
    "        else:\n",
    "            return -self.lambda_ * (-x)**self.alpha\n",
    "\n",
    "class w_func:\n",
    "    def __init__(self, gamma, delta):\n",
    "        self.gamma = gamma\n",
    "        self.delta = delta\n",
    "    \n",
    "    def __call__(self, p, gain=True):\n",
    "        if gain:\n",
    "            exponent = self.gamma\n",
    "        else:\n",
    "            exponent = self.delta\n",
    "            \n",
    "        numerator = p**exponent\n",
    "        denominator = (p**exponent + (1-p)**exponent)**(1/exponent)\n",
    "        return numerator / denominator\n",
    "\n",
    "\n",
    "def calculate_tk(sorted_return, v, w):\n",
    "    num_month = sorted_return.count()\n",
    "    \n",
    "    neg = sorted_return[sorted_return < 0]\n",
    "    num_neg = len(neg)\n",
    "    pos = sorted_return[sorted_return > 0]\n",
    "    num_pos = len(pos)\n",
    "    \n",
    "    v_neg = neg.apply(v).to_numpy()\n",
    "    v_pos = pos.apply(v).to_numpy()\n",
    "\n",
    "    pi_neg = np.asarray([w((i+1)/num_month, gain=False) - w(i/num_month, gain=False) for i in range(num_neg)])\n",
    "    pi_pos = np.asarray([w((num_pos - i)/num_month, gain=True) - w((num_pos - i - 1)/num_month, gain=True) for i in range(num_pos)])    \n",
    "    \n",
    "    tk = sum(v_neg * pi_neg) + sum(v_pos * pi_pos)\n",
    "    \n",
    "    return tk"
   ]
  },
  {
   "cell_type": "code",
   "execution_count": 7,
   "metadata": {},
   "outputs": [],
   "source": [
    "v = v_func(alpha=0.88, lambda_=2.25)\n",
    "w = w_func(gamma=0.61, delta=0.69)"
   ]
  },
  {
   "cell_type": "code",
   "execution_count": 8,
   "metadata": {
    "scrolled": false
   },
   "outputs": [],
   "source": [
    "# Currently use 'return' instead of 'exccess return'\n",
    "close_prices = df['Adj Close'].dropna(axis=1, how='all')\n",
    "monthly_returns = close_prices.resample('m').ffill().pct_change().dropna(axis=0, how='all')\n",
    "\n",
    "# Currently use 1 ~ (T-1)-th data to predict T-th data\n",
    "target_month_returns = monthly_returns.iloc[[-1], :]\n",
    "target_month_returns = target_month_returns.T.squeeze() # as series\n",
    "monthly_returns = monthly_returns.iloc[:-1, :]"
   ]
  },
  {
   "cell_type": "code",
   "execution_count": 9,
   "metadata": {},
   "outputs": [],
   "source": [
    "# Calculate TK values\n",
    "sorted_returns = monthly_returns.apply(lambda x: x.sort_values().values)\n",
    "tks = sorted_returns.apply(calculate_tk, axis=0, args=(v, w))"
   ]
  },
  {
   "cell_type": "code",
   "execution_count": 10,
   "metadata": {},
   "outputs": [],
   "source": [
    "# Simple decile portfolio analysis (equally-weighted)\n",
    "decile_analysis = pd.concat([tks, pd.qcut(tks, 10, range(0,10)), target_month_returns], axis=1)\n",
    "decile_analysis.columns = ['TK', 'decile', 'NextMonthReturn']"
   ]
  },
  {
   "cell_type": "code",
   "execution_count": 12,
   "metadata": {},
   "outputs": [
    {
     "data": {
      "text/html": [
       "<div>\n",
       "<style scoped>\n",
       "    .dataframe tbody tr th:only-of-type {\n",
       "        vertical-align: middle;\n",
       "    }\n",
       "\n",
       "    .dataframe tbody tr th {\n",
       "        vertical-align: top;\n",
       "    }\n",
       "\n",
       "    .dataframe thead th {\n",
       "        text-align: right;\n",
       "    }\n",
       "</style>\n",
       "<table border=\"1\" class=\"dataframe\">\n",
       "  <thead>\n",
       "    <tr style=\"text-align: right;\">\n",
       "      <th></th>\n",
       "      <th>TK</th>\n",
       "      <th>decile</th>\n",
       "      <th>NextMonthReturn</th>\n",
       "    </tr>\n",
       "    <tr>\n",
       "      <th>Symbols</th>\n",
       "      <th></th>\n",
       "      <th></th>\n",
       "      <th></th>\n",
       "    </tr>\n",
       "  </thead>\n",
       "  <tbody>\n",
       "    <tr>\n",
       "      <th>QDEF</th>\n",
       "      <td>-0.023060</td>\n",
       "      <td>6</td>\n",
       "      <td>0.036094</td>\n",
       "    </tr>\n",
       "    <tr>\n",
       "      <th>IBND</th>\n",
       "      <td>-0.014700</td>\n",
       "      <td>7</td>\n",
       "      <td>0.026897</td>\n",
       "    </tr>\n",
       "    <tr>\n",
       "      <th>JRO</th>\n",
       "      <td>-0.034191</td>\n",
       "      <td>5</td>\n",
       "      <td>0.031746</td>\n",
       "    </tr>\n",
       "    <tr>\n",
       "      <th>CLAR</th>\n",
       "      <td>-0.035739</td>\n",
       "      <td>4</td>\n",
       "      <td>0.069444</td>\n",
       "    </tr>\n",
       "    <tr>\n",
       "      <th>FYT</th>\n",
       "      <td>-0.042232</td>\n",
       "      <td>4</td>\n",
       "      <td>0.086996</td>\n",
       "    </tr>\n",
       "    <tr>\n",
       "      <th>...</th>\n",
       "      <td>...</td>\n",
       "      <td>...</td>\n",
       "      <td>...</td>\n",
       "    </tr>\n",
       "    <tr>\n",
       "      <th>TSEM</th>\n",
       "      <td>-0.064524</td>\n",
       "      <td>2</td>\n",
       "      <td>0.055601</td>\n",
       "    </tr>\n",
       "    <tr>\n",
       "      <th>DHC</th>\n",
       "      <td>-0.099938</td>\n",
       "      <td>1</td>\n",
       "      <td>-0.065760</td>\n",
       "    </tr>\n",
       "    <tr>\n",
       "      <th>WK</th>\n",
       "      <td>-0.018787</td>\n",
       "      <td>7</td>\n",
       "      <td>0.221763</td>\n",
       "    </tr>\n",
       "    <tr>\n",
       "      <th>SCHV</th>\n",
       "      <td>-0.024664</td>\n",
       "      <td>6</td>\n",
       "      <td>0.035318</td>\n",
       "    </tr>\n",
       "    <tr>\n",
       "      <th>VNTR</th>\n",
       "      <td>-0.175702</td>\n",
       "      <td>0</td>\n",
       "      <td>0.329317</td>\n",
       "    </tr>\n",
       "  </tbody>\n",
       "</table>\n",
       "<p>795 rows × 3 columns</p>\n",
       "</div>"
      ],
      "text/plain": [
       "               TK decile  NextMonthReturn\n",
       "Symbols                                  \n",
       "QDEF    -0.023060      6         0.036094\n",
       "IBND    -0.014700      7         0.026897\n",
       "JRO     -0.034191      5         0.031746\n",
       "CLAR    -0.035739      4         0.069444\n",
       "FYT     -0.042232      4         0.086996\n",
       "...           ...    ...              ...\n",
       "TSEM    -0.064524      2         0.055601\n",
       "DHC     -0.099938      1        -0.065760\n",
       "WK      -0.018787      7         0.221763\n",
       "SCHV    -0.024664      6         0.035318\n",
       "VNTR    -0.175702      0         0.329317\n",
       "\n",
       "[795 rows x 3 columns]"
      ]
     },
     "execution_count": 12,
     "metadata": {},
     "output_type": "execute_result"
    }
   ],
   "source": [
    "decile_analysis"
   ]
  },
  {
   "cell_type": "code",
   "execution_count": 13,
   "metadata": {
    "scrolled": true
   },
   "outputs": [
    {
     "data": {
      "text/html": [
       "<div>\n",
       "<style scoped>\n",
       "    .dataframe tbody tr th:only-of-type {\n",
       "        vertical-align: middle;\n",
       "    }\n",
       "\n",
       "    .dataframe tbody tr th {\n",
       "        vertical-align: top;\n",
       "    }\n",
       "\n",
       "    .dataframe thead th {\n",
       "        text-align: right;\n",
       "    }\n",
       "</style>\n",
       "<table border=\"1\" class=\"dataframe\">\n",
       "  <thead>\n",
       "    <tr style=\"text-align: right;\">\n",
       "      <th></th>\n",
       "      <th>TK</th>\n",
       "      <th>NextMonthReturn</th>\n",
       "    </tr>\n",
       "    <tr>\n",
       "      <th>decile</th>\n",
       "      <th></th>\n",
       "      <th></th>\n",
       "    </tr>\n",
       "  </thead>\n",
       "  <tbody>\n",
       "    <tr>\n",
       "      <th>0</th>\n",
       "      <td>-0.157304</td>\n",
       "      <td>0.110517</td>\n",
       "    </tr>\n",
       "    <tr>\n",
       "      <th>1</th>\n",
       "      <td>-0.085979</td>\n",
       "      <td>0.112594</td>\n",
       "    </tr>\n",
       "    <tr>\n",
       "      <th>2</th>\n",
       "      <td>-0.063106</td>\n",
       "      <td>0.099164</td>\n",
       "    </tr>\n",
       "    <tr>\n",
       "      <th>3</th>\n",
       "      <td>-0.049770</td>\n",
       "      <td>0.066822</td>\n",
       "    </tr>\n",
       "    <tr>\n",
       "      <th>4</th>\n",
       "      <td>-0.039221</td>\n",
       "      <td>0.063381</td>\n",
       "    </tr>\n",
       "    <tr>\n",
       "      <th>5</th>\n",
       "      <td>-0.030116</td>\n",
       "      <td>0.077472</td>\n",
       "    </tr>\n",
       "    <tr>\n",
       "      <th>6</th>\n",
       "      <td>-0.022583</td>\n",
       "      <td>0.047678</td>\n",
       "    </tr>\n",
       "    <tr>\n",
       "      <th>7</th>\n",
       "      <td>-0.014837</td>\n",
       "      <td>0.040396</td>\n",
       "    </tr>\n",
       "    <tr>\n",
       "      <th>8</th>\n",
       "      <td>-0.002568</td>\n",
       "      <td>0.033262</td>\n",
       "    </tr>\n",
       "    <tr>\n",
       "      <th>9</th>\n",
       "      <td>3.478535</td>\n",
       "      <td>0.029322</td>\n",
       "    </tr>\n",
       "  </tbody>\n",
       "</table>\n",
       "</div>"
      ],
      "text/plain": [
       "              TK  NextMonthReturn\n",
       "decile                           \n",
       "0      -0.157304         0.110517\n",
       "1      -0.085979         0.112594\n",
       "2      -0.063106         0.099164\n",
       "3      -0.049770         0.066822\n",
       "4      -0.039221         0.063381\n",
       "5      -0.030116         0.077472\n",
       "6      -0.022583         0.047678\n",
       "7      -0.014837         0.040396\n",
       "8      -0.002568         0.033262\n",
       "9       3.478535         0.029322"
      ]
     },
     "execution_count": 13,
     "metadata": {},
     "output_type": "execute_result"
    }
   ],
   "source": [
    "decile_analysis.groupby('decile').mean()"
   ]
  },
  {
   "cell_type": "code",
   "execution_count": null,
   "metadata": {},
   "outputs": [],
   "source": []
  },
  {
   "cell_type": "code",
   "execution_count": null,
   "metadata": {},
   "outputs": [],
   "source": [
    "# Fama-Macbeth regression\n",
    "#get_available_datasets()\n",
    "ff_data = web.DataReader('F-F_Research_Data_Factors', 'famafrench', '2016-01-01', '2020-12-31')[0]\n",
    "ff_data = ff_data.drop(['RF'], axis=1)\n",
    "ff_data = ff_data.rename(columns={'Mkt-RF': 'Mkt'})"
   ]
  }
 ],
 "metadata": {
  "kernelspec": {
   "display_name": "Python 3.6.10 64-bit ('py36': conda)",
   "language": "python",
   "name": "python3610jvsc74a57bd01637b85be939dc3afb53e8cfd1e2d9e605b819d0c7e4a3c252ad58d774b50617"
  },
  "language_info": {
   "codemirror_mode": {
    "name": "ipython",
    "version": 3
   },
   "file_extension": ".py",
   "mimetype": "text/x-python",
   "name": "python",
   "nbconvert_exporter": "python",
   "pygments_lexer": "ipython3",
   "version": "3.6.10"
  },
  "metadata": {
   "interpreter": {
    "hash": "1637b85be939dc3afb53e8cfd1e2d9e605b819d0c7e4a3c252ad58d774b50617"
   }
  }
 },
 "nbformat": 4,
 "nbformat_minor": 2
}
